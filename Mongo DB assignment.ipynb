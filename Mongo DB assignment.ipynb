{
 "cells": [
  {
   "cell_type": "markdown",
   "id": "847adbb7-db76-4977-981e-bb4bb638709c",
   "metadata": {},
   "source": [
    "Q1. What is MongoDB? Explain non-relational databases in short. In which scenarios it is preferred to use\n",
    "MongoDB over SQL databases?"
   ]
  },
  {
   "cell_type": "markdown",
   "id": "9f6d8227-8d90-4900-94e6-cade96cebef0",
   "metadata": {},
   "source": [
    "#Answer\n",
    "\n",
    "MongoDB is a popular open-source document-oriented NoSQL database system. It is designed to store and manage large volumes of unstructured or semi-structured data. MongoDB uses a flexible document model called BSON (Binary JSON) to represent data, which allows for dynamic schemas and nested data structures.\n",
    "\n",
    "Non-relational databases, also known as NoSQL (which stands for \"not only SQL\"), are database systems that do not use the traditional tabular relational model found in SQL databases. They are designed to handle large-scale data storage and processing requirements, focusing on scalability, flexibility, and performance. Non-relational databases can store data in various formats like key-value pairs, documents, columnar, and graphs.\n",
    "\n",
    "MongoDB is preferred over SQL databases in several scenarios:\n",
    "\n",
    "1. Flexible and evolving schemas: MongoDB allows for dynamic and flexible schemas, meaning that each document in a collection can have a different structure. This makes it easier to handle evolving data models, where the structure of data can change over time without requiring alterations to the database schema.\n",
    "\n",
    "2. Scalability: MongoDB is designed to scale horizontally, allowing you to distribute data across multiple servers or clusters easily. This enables handling large amounts of data and high traffic loads.\n",
    "\n",
    "3. High-performance for certain use cases: MongoDB's document-oriented model can provide high performance for certain types of queries, especially when retrieving entire documents or working with nested data structures.\n",
    "\n",
    "4. Agile development: MongoDB's flexibility and ease of use make it well-suited for agile development methodologies. It allows developers to quickly iterate and adapt their data models during the development process.\n",
    "\n",
    "5. Use cases with unstructured or semi-structured data: MongoDB is particularly useful when dealing with unstructured or semi-structured data, such as social media data, sensor data, logs, and content management systems.\n",
    "\n",
    "It's important to note that SQL databases, such as MySQL or PostgreSQL, are still a preferred choice for many applications that require complex transactions, strong data consistency, and strict schema enforcement. The choice between MongoDB and SQL databases depends on the specific requirements and nature of the data in your application."
   ]
  },
  {
   "cell_type": "markdown",
   "id": "d768ab2e-88b4-43b3-a1dd-6c72edbb4923",
   "metadata": {},
   "source": [
    "                      -------------------------------------------------------------------"
   ]
  },
  {
   "cell_type": "markdown",
   "id": "491180f2-5135-481c-9aa5-c7f7f6e92a5f",
   "metadata": {},
   "source": [
    "Q2. State and Explain the features of MongoDB."
   ]
  },
  {
   "cell_type": "markdown",
   "id": "34b66b0a-a202-4f90-82f0-fff796781f40",
   "metadata": {},
   "source": [
    "#Answer\n",
    "\n",
    "MongoDB offers several key features that make it a popular choice for developers and businesses:\n",
    "\n",
    "1. Document-Oriented: MongoDB is a document-oriented database, which means it stores data in flexible, self-contained documents using a format called BSON (Binary JSON). Each document can have a different structure, allowing for dynamic schemas and easy representation of complex data.\n",
    "\n",
    "2. Scalability: MongoDB is built to scale horizontally, allowing you to distribute data across multiple servers or clusters. It supports sharding, which divides data across shards for improved performance and increased storage capacity. Additionally, MongoDB's auto-sharding feature simplifies the process of adding new nodes to the cluster.\n",
    "\n",
    "3. High Performance: MongoDB provides high-performance data access through various features. It supports indexing to optimize query performance and has a built-in caching mechanism called the WiredTiger storage engine. Additionally, MongoDB uses memory-mapped files, which can leverage the operating system's virtual memory for faster data access.\n",
    "\n",
    "4. Flexible Data Model: MongoDB's flexible data model allows for easy handling of evolving schemas. You can store documents with different fields and structures within the same collection, without requiring a predefined schema. This flexibility enables developers to quickly adapt to changing data requirements.\n",
    "\n",
    "5. Rich Query Language: MongoDB's query language supports a wide range of operations, including CRUD (create, read, update, delete) operations, aggregation, geospatial queries, and text search. The query language is expressive and allows for complex queries on documents.\n",
    "\n",
    "6. Replication and High Availability: MongoDB offers replication to ensure data redundancy and high availability. By configuring replica sets, you can create multiple copies of your data across different servers. If the primary node fails, one of the secondary nodes can take over as the primary, minimizing downtime.\n",
    "\n",
    "7. Automatic Sharding: MongoDB's automatic sharding feature allows for horizontal scaling without manual intervention. It splits data across multiple shards based on a chosen shard key. As the data grows, MongoDB automatically redistributes and balances the data across the shards.\n",
    "\n",
    "8. Security: MongoDB provides robust security features, including authentication, role-based access control (RBAC), and transport layer encryption (TLS/SSL). These features help protect data from unauthorized access and ensure secure communication between clients and servers.\n",
    "\n",
    "9. Flexibility with Storage: MongoDB supports various storage engines, including the default WiredTiger engine and the legacy MMAPv1 engine. This gives developers the flexibility to choose the most suitable storage engine based on their specific requirements.\n",
    "\n",
    "Overall, MongoDB's features make it well-suited for applications that require flexibility, scalability, high performance, and the ability to handle diverse and evolving data structures."
   ]
  },
  {
   "cell_type": "markdown",
   "id": "61e7fe27-1fe2-442b-9990-ddf2b4958328",
   "metadata": {},
   "source": [
    "                      -------------------------------------------------------------------"
   ]
  },
  {
   "cell_type": "markdown",
   "id": "ee58e8fc-6392-4da0-a0c9-2443f93e661c",
   "metadata": {},
   "source": [
    "Q3. Write a code to connect MongoDB to Python. Also, create a database and a collection in MongoDB."
   ]
  },
  {
   "cell_type": "markdown",
   "id": "dbed0295-922d-43a7-aaf9-300ed527fac8",
   "metadata": {},
   "source": [
    "#Answer\n",
    "\n",
    "To connect to MongoDB using Python, we can make use of the pymongo library, which is the official MongoDB driver for Python. Here's an example code that demonstrates how to connect to MongoDB, create a database, and a collection:"
   ]
  },
  {
   "cell_type": "code",
   "execution_count": null,
   "id": "5a5f0f8b-aa16-4723-92cc-a5422ca7ee03",
   "metadata": {},
   "outputs": [],
   "source": [
    "import pymongo\n",
    "\n",
    "# Establish connection\n",
    "client = pymongo.MongoClient(\"mongodb://localhost:27017\")\n",
    "\n",
    "# Create/connect to a database\n",
    "database = client[\"mydatabase\"]\n",
    "\n",
    "# Create/connect to a collection\n",
    "collection = database[\"mycollection\"]\n",
    "\n",
    "# Insert a document into the collection\n",
    "document = {\"name\": \"John\", \"age\": 30}\n",
    "inserted_document = collection.insert_one(document)\n",
    "print(\"Inserted document ID:\", inserted_document.inserted_id)\n",
    "\n",
    "# Close the connection\n",
    "client.close()\n"
   ]
  },
  {
   "cell_type": "markdown",
   "id": "d05472f6-32c7-4f25-9bf1-a059789d3582",
   "metadata": {},
   "source": [
    "\n",
    "Import the pymongo library, which provides the necessary classes and methods for interacting with MongoDB.\n",
    "\n",
    "Use the pymongo.MongoClient() function to establish a connection to the MongoDB server. Here, we assume that MongoDB is running on the default host and port (localhost:27017). If your MongoDB server is running on a different host or port, modify the connection string accordingly.\n",
    "\n",
    "Create a new database using the client[\"mydatabase\"] syntax. Replace \"mydatabase\" with the desired name for your database. If the specified database already exists, the connection will be established with that database.\n",
    "\n",
    "Create a new collection within the database using the database[\"mycollection\"] syntax. Replace \"mycollection\" with the desired name for your collection. If the specified collection already exists, the connection will be established with that collection.\n",
    "\n",
    "Insert a document into the collection using the collection.insert_one() method. Here, we're inserting a dictionary as the document. The method returns an InsertOneResult object, and we can access the inserted document's ID using inserted_document.inserted_id.\n",
    "\n",
    "Finally, close the connection to the MongoDB server using client.close()."
   ]
  },
  {
   "cell_type": "markdown",
   "id": "ab68aa9b-06e7-48ba-9454-ab662e3c7fc2",
   "metadata": {},
   "source": [
    "                      -------------------------------------------------------------------"
   ]
  },
  {
   "cell_type": "markdown",
   "id": "603d8454-0f91-4c58-9047-9330eaa2c9b0",
   "metadata": {},
   "source": [
    "Q4. Using the database and the collection created in question number 3, write a code to insert one record,\n",
    "and insert many records. Use the find() and find_one() methods to print the inserted record."
   ]
  },
  {
   "cell_type": "markdown",
   "id": "4cdf2f49-a0ba-4d93-b439-2a09eeb90d22",
   "metadata": {},
   "source": [
    "#Answer\n",
    "\n",
    "Here's an example code that demonstrates inserting one record and inserting multiple records into a collection in MongoDB. It also shows how to use the find() and find_one() methods to print the inserted records:"
   ]
  },
  {
   "cell_type": "code",
   "execution_count": null,
   "id": "0b6033fe-3517-4029-87a5-2ee44b539120",
   "metadata": {},
   "outputs": [],
   "source": [
    "import pymongo\n",
    "\n",
    "# Establish connection\n",
    "client = pymongo.MongoClient(\"mongodb://localhost:27017\")\n",
    "\n",
    "# Access the database and collection\n",
    "database = client[\"mydatabase\"]\n",
    "collection = database[\"mycollection\"]\n",
    "\n",
    "# Insert one record\n",
    "document = {\"name\": \"Alice\", \"age\": 25}\n",
    "inserted_document = collection.insert_one(document)\n",
    "print(\"Inserted document ID:\", inserted_document.inserted_id)\n",
    "\n",
    "# Insert many records\n",
    "documents = [\n",
    "    {\"name\": \"Bob\", \"age\": 30},\n",
    "    {\"name\": \"Charlie\", \"age\": 35},\n",
    "    {\"name\": \"David\", \"age\": 40}\n",
    "]\n",
    "inserted_documents = collection.insert_many(documents)\n",
    "print(\"Inserted document IDs:\", inserted_documents.inserted_ids)\n",
    "\n",
    "# Find and print the inserted records\n",
    "print(\"\\nInserted Records:\")\n",
    "print(\"One Record:\")\n",
    "print(collection.find_one({\"_id\": inserted_document.inserted_id}))\n",
    "\n",
    "print(\"\\nMany Records:\")\n",
    "for document in collection.find({\"_id\": {\"$in\": inserted_documents.inserted_ids}}):\n",
    "    print(document)\n",
    "\n",
    "# Close the connection\n",
    "client.close()\n"
   ]
  },
  {
   "cell_type": "markdown",
   "id": "cefbaf43-6ff9-49ad-b189-2a56c6f188e8",
   "metadata": {},
   "source": [
    "                      -------------------------------------------------------------------"
   ]
  },
  {
   "cell_type": "markdown",
   "id": "d83dbde1-120b-428e-9820-73b17987c381",
   "metadata": {},
   "source": [
    "Q5. Explain how you can use the find() method to query the MongoDB database. Write a simple code to\n",
    "demonstrate this."
   ]
  },
  {
   "cell_type": "markdown",
   "id": "a75e7314-7b42-4bb6-8e17-d7f695232afa",
   "metadata": {},
   "source": [
    "#Answer\n",
    "\n",
    "The find() method in MongoDB is used to query the database and retrieve documents that match certain criteria. It allows you to perform complex queries by specifying filters, projections, sorting, and limiting the number of results. Here's an explanation of how you can use the find() method and a simple code example to demonstrate it:\n",
    "\n",
    "To use the find() method in MongoDB, you provide a query document that specifies the conditions for matching the documents. The query document is a dictionary (or a JSON-like object) where the keys represent the field names, and the values represent the matching criteria."
   ]
  },
  {
   "cell_type": "code",
   "execution_count": 4,
   "id": "9481c5f2-ef81-4533-b405-f7d40580597e",
   "metadata": {},
   "outputs": [],
   "source": [
    "#The basic syntax for the find() method is as follows:\n",
    "    \n",
    "collection.find(query, projection)\n"
   ]
  },
  {
   "cell_type": "markdown",
   "id": "09030a37-8fdd-4c3e-9f78-9d6eb6a8c83d",
   "metadata": {},
   "source": [
    "query (optional): Specifies the query document to filter the documents. It defines the conditions that the documents must meet to be included in the result. If no query is specified, all documents in the collection will be returned.\n",
    "\n",
    "projection (optional): Specifies which fields to include or exclude from the result. It helps to shape the output by selecting specific fields. By default, all fields are included in the result.\n",
    "\n",
    "Here's a simple code example that demonstrates the use of the find() method:"
   ]
  },
  {
   "cell_type": "code",
   "execution_count": null,
   "id": "c4863a1c-aeb8-442e-99a3-050d27245edc",
   "metadata": {},
   "outputs": [],
   "source": [
    "import pymongo\n",
    "\n",
    "# Establish connection\n",
    "client = pymongo.MongoClient(\"mongodb://localhost:27017\")\n",
    "\n",
    "# Access the database and collection\n",
    "database = client[\"mydatabase\"]\n",
    "collection = database[\"mycollection\"]\n",
    "\n",
    "# Insert some sample documents\n",
    "documents = [\n",
    "    {\"name\": \"Alice\", \"age\": 25, \"city\": \"New York\"},\n",
    "    {\"name\": \"Bob\", \"age\": 30, \"city\": \"London\"},\n",
    "    {\"name\": \"Charlie\", \"age\": 35, \"city\": \"Paris\"},\n",
    "    {\"name\": \"David\", \"age\": 40, \"city\": \"Tokyo\"}\n",
    "]\n",
    "collection.insert_many(documents)\n",
    "\n",
    "# Perform a find query\n",
    "query = {\"age\": {\"$gte\": 30}}  # Find documents where age is greater than or equal to 30\n",
    "projection = {\"_id\": 0, \"name\": 1, \"age\": 1}  # Include only name and age fields, exclude _id field\n",
    "results = collection.find(query, projection)\n",
    "\n",
    "# Print the matching documents\n",
    "for document in results:\n",
    "    print(document)\n",
    "\n",
    "# Close the connection\n",
    "client.close()\n"
   ]
  },
  {
   "cell_type": "markdown",
   "id": "4bd56842-96dd-463e-9a53-abe5f7acc2c6",
   "metadata": {},
   "source": [
    "                       -------------------------------------------------------------------"
   ]
  },
  {
   "cell_type": "markdown",
   "id": "e5cfcd8a-e250-42a7-8424-c3a5f8fe7a69",
   "metadata": {},
   "source": [
    "Q6. Explain the sort() method. Give an example to demonstrate sorting in MongoDB."
   ]
  },
  {
   "cell_type": "markdown",
   "id": "7cc95381-135d-4935-ad83-a7fab8d419f3",
   "metadata": {},
   "source": [
    "#Answer\n",
    "\n",
    "The sort() method in MongoDB is used to sort the documents in a collection based on one or more fields. It allows you to specify the sorting order as ascending or descending for each field. The sort() method modifies the order in which the documents are retrieved from the collection.\n",
    "\n",
    "The basic syntax for the sort() method is as follows:"
   ]
  },
  {
   "cell_type": "code",
   "execution_count": null,
   "id": "f9783c31-f82c-41a6-a530-5530920dce1e",
   "metadata": {},
   "outputs": [],
   "source": [
    "collection.find(query).sort(sort_key, sort_order)\n"
   ]
  },
  {
   "cell_type": "markdown",
   "id": "c36d1f59-e2aa-46ca-baec-e28ea00ba982",
   "metadata": {},
   "source": [
    "query (optional): Specifies the query document to filter the documents. If no query is provided, all documents in the collection will be sorted.\n",
    "\n",
    "sort_key: Specifies the field(s) to sort by. It can be a single field name or a list of field names.\n",
    "\n",
    "sort_order (optional): Specifies the sorting order for the field(s). It can be either pymongo.ASCENDING (1) for ascending order or pymongo.DESCENDING (-1) for descending order. The default is ascending order.\n",
    "\n",
    "Here's an example code that demonstrates sorting in MongoDB:"
   ]
  },
  {
   "cell_type": "code",
   "execution_count": null,
   "id": "e679f637-c91e-4e9e-a74a-405d91a7b813",
   "metadata": {},
   "outputs": [],
   "source": [
    "import pymongo\n",
    "\n",
    "# Establish connection\n",
    "client = pymongo.MongoClient(\"mongodb://localhost:27017\")\n",
    "\n",
    "# Access the database and collection\n",
    "database = client[\"mydatabase\"]\n",
    "collection = database[\"mycollection\"]\n",
    "\n",
    "# Insert some sample documents\n",
    "documents = [\n",
    "    {\"name\": \"Alice\", \"age\": 25},\n",
    "    {\"name\": \"Bob\", \"age\": 30},\n",
    "    {\"name\": \"Charlie\", \"age\": 35},\n",
    "    {\"name\": \"David\", \"age\": 40}\n",
    "]\n",
    "collection.insert_many(documents)\n",
    "\n",
    "# Perform a sort query\n",
    "sort_key = \"age\"  # Sort by the \"age\" field\n",
    "sort_order = pymongo.DESCENDING  # Sort in descending order\n",
    "results = collection.find().sort(sort_key, sort_order)\n",
    "\n",
    "# Print the sorted documents\n",
    "for document in results:\n",
    "    print(document)\n",
    "\n",
    "# Close the connection\n",
    "client.close()\n"
   ]
  },
  {
   "cell_type": "markdown",
   "id": "c195c9bd-aba6-49ad-a195-6b541eb54fb2",
   "metadata": {},
   "source": [
    "                        -------------------------------------------------------------------"
   ]
  },
  {
   "cell_type": "markdown",
   "id": "92fbb4a6-552f-41a4-b846-d3482ad98f17",
   "metadata": {},
   "source": [
    "Q7. Explain why delete_one(), delete_many(), and drop() is used."
   ]
  },
  {
   "cell_type": "markdown",
   "id": "b907bf9f-b3db-4516-9861-7e8267c058b4",
   "metadata": {},
   "source": [
    "#Answer\n",
    "\n",
    "\n",
    "In MongoDB, the `delete_one()`, `delete_many()`, and `drop()` methods are used to remove documents or entire collections from a database. Each method serves a specific purpose:\n",
    "\n",
    "1. `delete_one()` method:\n",
    "   The `delete_one()` method is used to delete a single document that matches a specified filter. It removes the first document that satisfies the given criteria from the collection. If multiple documents match the filter, only the first one encountered will be deleted.\n",
    "\n",
    "   Example:\n",
    "   ```python\n",
    "   collection.delete_one({\"name\": \"John\"})\n",
    "   ```\n",
    "   This code will delete the first document in the collection where the \"name\" field is \"John\".\n",
    "\n",
    "2. `delete_many()` method:\n",
    "   The `delete_many()` method allows deleting multiple documents that match a given filter. It removes all the documents that satisfy the specified criteria from the collection.\n",
    "\n",
    "   Example:\n",
    "   ```python\n",
    "   collection.delete_many({\"age\": {\"$gt\": 30}})\n",
    "   ```\n",
    "   This code will delete all the documents in the collection where the \"age\" field is greater than 30.\n",
    "\n",
    "   The `delete_many()` method is useful when you want to remove multiple documents that meet certain conditions.\n",
    "\n",
    "3. `drop()` method:\n",
    "   The `drop()` method is used to completely remove a collection from the database. It deletes all the documents within the collection and the collection itself. The operation is irreversible, and the collection cannot be recovered once dropped.\n",
    "\n",
    "   Example:\n",
    "   ```python\n",
    "   collection.drop()\n",
    "   ```\n",
    "   This code will drop the entire collection.\n",
    "\n",
    "   The `drop()` method is typically used when you want to delete an entire collection rather than individual documents.\n",
    "\n",
    "It's important to exercise caution when using these methods, especially `drop()`, as data loss can occur. Always double-check the filters and ensure you have appropriate backups before performing irreversible operations like `drop()`."
   ]
  },
  {
   "cell_type": "markdown",
   "id": "66974104-a968-4aeb-8978-d2b40c4d7200",
   "metadata": {},
   "source": [
    "                        -------------------------------------------------------------------"
   ]
  }
 ],
 "metadata": {
  "kernelspec": {
   "display_name": "Python 3 (ipykernel)",
   "language": "python",
   "name": "python3"
  },
  "language_info": {
   "codemirror_mode": {
    "name": "ipython",
    "version": 3
   },
   "file_extension": ".py",
   "mimetype": "text/x-python",
   "name": "python",
   "nbconvert_exporter": "python",
   "pygments_lexer": "ipython3",
   "version": "3.10.8"
  }
 },
 "nbformat": 4,
 "nbformat_minor": 5
}
